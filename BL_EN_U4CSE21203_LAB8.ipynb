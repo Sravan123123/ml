{
  "nbformat": 4,
  "nbformat_minor": 0,
  "metadata": {
    "colab": {
      "provenance": [],
      "authorship_tag": "ABX9TyMwxGWbb9ZlkN1egDxGKsbm",
      "include_colab_link": true
    },
    "kernelspec": {
      "name": "python3",
      "display_name": "Python 3"
    },
    "language_info": {
      "name": "python"
    }
  },
  "cells": [
    {
      "cell_type": "markdown",
      "metadata": {
        "id": "view-in-github",
        "colab_type": "text"
      },
      "source": [
        "<a href=\"https://colab.research.google.com/github/Sravan123123/ml/blob/main/BL_EN_U4CSE21203_LAB8.ipynb\" target=\"_parent\"><img src=\"https://colab.research.google.com/assets/colab-badge.svg\" alt=\"Open In Colab\"/></a>"
      ]
    },
    {
      "cell_type": "code",
      "execution_count": 1,
      "metadata": {
        "id": "hJfcMRlbKR1B",
        "outputId": "c4949563-67cd-4a8f-804d-b5e083356013",
        "colab": {
          "base_uri": "https://localhost:8080/"
        }
      },
      "outputs": [
        {
          "output_type": "stream",
          "name": "stdout",
          "text": [
            "Prior Probabilities for 'buys_computer' classes:\n",
            "yes    0.642857\n",
            "no     0.357143\n",
            "Name: buys_computer, dtype: float64\n"
          ]
        }
      ],
      "source": [
        "#A1\n",
        "import pandas as pd\n",
        "\n",
        "data = {\n",
        "    'age': ['<=30', '<=30', '31…40', '>40', '>40', '>40', '31…40', '<=30', '<=30', '>40',\n",
        "            '<=30', '31…40', '31…40', '>40'],\n",
        "    'income': ['high', 'high', 'high', 'medium', 'low', 'low', 'low', 'medium', 'low',\n",
        "               'medium', 'medium', 'medium', 'high', 'medium'],\n",
        "    'student': ['no', 'no', 'no', 'no', 'yes', 'yes', 'yes', 'no', 'yes', 'yes', 'yes',\n",
        "                'no', 'yes', 'no'],\n",
        "    'credit_rating': ['fair', 'excellent', 'fair', 'fair', 'fair', 'excellent', 'excellent',\n",
        "                      'fair', 'fair', 'fair', 'excellent', 'excellent', 'fair', 'excellent'],\n",
        "    'buys_computer': ['no', 'no', 'yes', 'yes', 'yes', 'no', 'yes', 'no', 'yes', 'yes',\n",
        "                      'yes', 'yes', 'yes', 'no']\n",
        "}\n",
        "\n",
        "df = pd.DataFrame(data)\n",
        "\n",
        "prior_prob = df['buys_computer'].value_counts(normalize=True)\n",
        "print(\"Prior Probabilities for 'buys_computer' classes:\")\n",
        "print(prior_prob)\n"
      ]
    },
    {
      "cell_type": "code",
      "source": [
        "#A2\n",
        "import pandas as pd\n",
        "\n",
        "data = {\n",
        "    'age': ['<=30', '<=30', '31…40', '>40', '>40', '>40', '31…40', '<=30', '<=30', '>40',\n",
        "            '<=30', '31…40', '31…40', '>40'],\n",
        "    'income': ['high', 'high', 'high', 'medium', 'low', 'low', 'low', 'medium', 'low',\n",
        "               'medium', 'medium', 'medium', 'high', 'medium'],\n",
        "    'student': ['no', 'no', 'no', 'no', 'yes', 'yes', 'yes', 'no', 'yes', 'yes', 'yes',\n",
        "                'no', 'yes', 'no'],\n",
        "    'credit_rating': ['fair', 'excellent', 'fair', 'fair', 'fair', 'excellent', 'excellent',\n",
        "                      'fair', 'fair', 'fair', 'excellent', 'excellent', 'fair', 'excellent'],\n",
        "    'buys_computer': ['no', 'no', 'yes', 'yes', 'yes', 'no', 'yes', 'no', 'yes', 'yes',\n",
        "                      'yes', 'yes', 'yes', 'no']\n",
        "}\n",
        "\n",
        "df = pd.DataFrame(data)\n",
        "\n",
        "class_conditional_densities = {}\n",
        "for feature in df.columns[:-1]:\n",
        "    class_conditional_densities[feature] = df.groupby(['buys_computer', feature]).size() / len(df)\n",
        "\n",
        "for feature, density in class_conditional_densities.items():\n",
        "    print(f\"Class-Conditional Density for '{feature}':\")\n",
        "    print(density)\n",
        "    print()\n",
        "\n",
        "for feature, density in class_conditional_densities.items():\n",
        "    if density.isnull().any():\n",
        "        print(f\"At least one class-conditional density for '{feature}' has zero values.\")\n"
      ],
      "metadata": {
        "id": "fEO42nIFziDM",
        "outputId": "cbbf09b8-9f0d-4bf0-f894-fcd96c4d736b",
        "colab": {
          "base_uri": "https://localhost:8080/"
        }
      },
      "execution_count": 2,
      "outputs": [
        {
          "output_type": "stream",
          "name": "stdout",
          "text": [
            "Class-Conditional Density for 'age':\n",
            "buys_computer  age  \n",
            "no             <=30     0.214286\n",
            "               >40      0.142857\n",
            "yes            31…40    0.285714\n",
            "               <=30     0.142857\n",
            "               >40      0.214286\n",
            "dtype: float64\n",
            "\n",
            "Class-Conditional Density for 'income':\n",
            "buys_computer  income\n",
            "no             high      0.142857\n",
            "               low       0.071429\n",
            "               medium    0.142857\n",
            "yes            high      0.142857\n",
            "               low       0.214286\n",
            "               medium    0.285714\n",
            "dtype: float64\n",
            "\n",
            "Class-Conditional Density for 'student':\n",
            "buys_computer  student\n",
            "no             no         0.285714\n",
            "               yes        0.071429\n",
            "yes            no         0.214286\n",
            "               yes        0.428571\n",
            "dtype: float64\n",
            "\n",
            "Class-Conditional Density for 'credit_rating':\n",
            "buys_computer  credit_rating\n",
            "no             excellent        0.214286\n",
            "               fair             0.142857\n",
            "yes            excellent        0.214286\n",
            "               fair             0.428571\n",
            "dtype: float64\n",
            "\n"
          ]
        }
      ]
    },
    {
      "cell_type": "code",
      "source": [
        "#A3\n",
        "import pandas as pd\n",
        "from scipy.stats import chi2_contingency\n",
        "\n",
        "data = {\n",
        "    'age': ['<=30', '<=30', '31…40', '>40', '>40', '>40', '31…40', '<=30', '<=30', '>40',\n",
        "            '<=30', '31…40', '31…40', '>40'],\n",
        "    'income': ['high', 'high', 'high', 'medium', 'low', 'low', 'low', 'medium', 'low',\n",
        "               'medium', 'medium', 'medium', 'high', 'medium'],\n",
        "    'student': ['no', 'no', 'no', 'no', 'yes', 'yes', 'yes', 'no', 'yes', 'yes', 'yes',\n",
        "                'no', 'yes', 'no'],\n",
        "    'credit_rating': ['fair', 'excellent', 'fair', 'fair', 'fair', 'excellent', 'excellent',\n",
        "                      'fair', 'fair', 'fair', 'excellent', 'excellent', 'fair', 'excellent'],\n",
        "    'buys_computer': ['no', 'no', 'yes', 'yes', 'yes', 'no', 'yes', 'no', 'yes', 'yes',\n",
        "                      'yes', 'yes', 'yes', 'no']\n",
        "}\n",
        "\n",
        "df = pd.DataFrame(data)\n",
        "\n",
        "features = ['age', 'income', 'student', 'credit_rating']\n",
        "\n",
        "for i in range(len(features)):\n",
        "    for j in range(i + 1, len(features)):\n",
        "        contingency_table = pd.crosstab(df[features[i]], df[features[j]])\n",
        "        chi2, p, dof, expected = chi2_contingency(contingency_table)\n",
        "        print(f\"test between '{features[i]}' and '{features[j]}':\")\n",
        "        print(f\"statistic: {chi2}\")\n",
        "        print(f\"P-value: {p}\")\n",
        "        print(\"\")\n",
        "\n"
      ],
      "metadata": {
        "id": "xWwYJ_E2z8wG",
        "outputId": "8421ec3e-d8c7-49d3-b001-8abb52978b38",
        "colab": {
          "base_uri": "https://localhost:8080/"
        }
      },
      "execution_count": 4,
      "outputs": [
        {
          "output_type": "stream",
          "name": "stdout",
          "text": [
            "test between 'age' and 'income':\n",
            "statistic: 3.3249999999999997\n",
            "P-value: 0.5049810026322079\n",
            "\n",
            "test between 'age' and 'student':\n",
            "statistic: 0.4\n",
            "P-value: 0.8187307530779818\n",
            "\n",
            "test between 'age' and 'credit_rating':\n",
            "statistic: 0.11666666666666664\n",
            "P-value: 0.9433354498734922\n",
            "\n",
            "test between 'income' and 'student':\n",
            "statistic: 5.666666666666666\n",
            "P-value: 0.05881647164242991\n",
            "\n",
            "test between 'income' and 'credit_rating':\n",
            "statistic: 0.7291666666666666\n",
            "P-value: 0.6944859597510076\n",
            "\n",
            "test between 'student' and 'credit_rating':\n",
            "statistic: 0.0\n",
            "P-value: 1.0\n",
            "\n"
          ]
        }
      ]
    },
    {
      "cell_type": "code",
      "source": [
        "#A4\n",
        "from sklearn.naive_bayes import GaussianNB\n",
        "\n",
        "# Your provided data\n",
        "Tr_X = [\n",
        "    ['<=30', 'high', 'no', 'fair'],\n",
        "    ['<=30', 'high', 'no', 'excellent'],\n",
        "    ['31…40', 'high', 'no', 'fair'],\n",
        "]\n",
        "\n",
        "Tr_y = ['no', 'no', 'yes', 'yes', 'yes', 'no', 'yes', 'no', 'yes', 'yes', 'yes', 'yes', 'yes', 'no']\n",
        "Tr_X = np.array(Tr_X)\n",
        "\n",
        "label_encoders = [LabelEncoder() for _ in range(Tr_X.shape[1])]\n",
        "for i, encoder in enumerate(label_encoders):\n",
        "    Tr_X[:, i] = encoder.fit_transform(Tr_X[:, i])\n",
        "\n",
        "\n",
        "model = GaussianNB()\n",
        "model.fit(Tr_X, Tr_y)\n",
        "\n",
        "predictions = model.predict(Tr_X)\n"
      ],
      "metadata": {
        "id": "uFmWrQtI6j39",
        "outputId": "851fa403-1f71-4c3c-f2a5-eec46ccd9a9c",
        "colab": {
          "base_uri": "https://localhost:8080/",
          "height": 407
        }
      },
      "execution_count": 24,
      "outputs": [
        {
          "output_type": "error",
          "ename": "ValueError",
          "evalue": "ignored",
          "traceback": [
            "\u001b[0;31m---------------------------------------------------------------------------\u001b[0m",
            "\u001b[0;31mValueError\u001b[0m                                Traceback (most recent call last)",
            "\u001b[0;32m<ipython-input-24-ea1f41a3a747>\u001b[0m in \u001b[0;36m<cell line: 19>\u001b[0;34m()\u001b[0m\n\u001b[1;32m     17\u001b[0m \u001b[0;34m\u001b[0m\u001b[0m\n\u001b[1;32m     18\u001b[0m \u001b[0mmodel\u001b[0m \u001b[0;34m=\u001b[0m \u001b[0mGaussianNB\u001b[0m\u001b[0;34m(\u001b[0m\u001b[0;34m)\u001b[0m\u001b[0;34m\u001b[0m\u001b[0;34m\u001b[0m\u001b[0m\n\u001b[0;32m---> 19\u001b[0;31m \u001b[0mmodel\u001b[0m\u001b[0;34m.\u001b[0m\u001b[0mfit\u001b[0m\u001b[0;34m(\u001b[0m\u001b[0mTr_X\u001b[0m\u001b[0;34m,\u001b[0m \u001b[0mTr_y\u001b[0m\u001b[0;34m)\u001b[0m\u001b[0;34m\u001b[0m\u001b[0;34m\u001b[0m\u001b[0m\n\u001b[0m\u001b[1;32m     20\u001b[0m \u001b[0;34m\u001b[0m\u001b[0m\n\u001b[1;32m     21\u001b[0m \u001b[0mpredictions\u001b[0m \u001b[0;34m=\u001b[0m \u001b[0mmodel\u001b[0m\u001b[0;34m.\u001b[0m\u001b[0mpredict\u001b[0m\u001b[0;34m(\u001b[0m\u001b[0mTr_X\u001b[0m\u001b[0;34m)\u001b[0m\u001b[0;34m\u001b[0m\u001b[0;34m\u001b[0m\u001b[0m\n",
            "\u001b[0;32m/usr/local/lib/python3.10/dist-packages/sklearn/naive_bayes.py\u001b[0m in \u001b[0;36mfit\u001b[0;34m(self, X, y, sample_weight)\u001b[0m\n\u001b[1;32m    265\u001b[0m         \u001b[0mself\u001b[0m\u001b[0;34m.\u001b[0m\u001b[0m_validate_params\u001b[0m\u001b[0;34m(\u001b[0m\u001b[0;34m)\u001b[0m\u001b[0;34m\u001b[0m\u001b[0;34m\u001b[0m\u001b[0m\n\u001b[1;32m    266\u001b[0m         \u001b[0my\u001b[0m \u001b[0;34m=\u001b[0m \u001b[0mself\u001b[0m\u001b[0;34m.\u001b[0m\u001b[0m_validate_data\u001b[0m\u001b[0;34m(\u001b[0m\u001b[0my\u001b[0m\u001b[0;34m=\u001b[0m\u001b[0my\u001b[0m\u001b[0;34m)\u001b[0m\u001b[0;34m\u001b[0m\u001b[0;34m\u001b[0m\u001b[0m\n\u001b[0;32m--> 267\u001b[0;31m         return self._partial_fit(\n\u001b[0m\u001b[1;32m    268\u001b[0m             \u001b[0mX\u001b[0m\u001b[0;34m,\u001b[0m \u001b[0my\u001b[0m\u001b[0;34m,\u001b[0m \u001b[0mnp\u001b[0m\u001b[0;34m.\u001b[0m\u001b[0munique\u001b[0m\u001b[0;34m(\u001b[0m\u001b[0my\u001b[0m\u001b[0;34m)\u001b[0m\u001b[0;34m,\u001b[0m \u001b[0m_refit\u001b[0m\u001b[0;34m=\u001b[0m\u001b[0;32mTrue\u001b[0m\u001b[0;34m,\u001b[0m \u001b[0msample_weight\u001b[0m\u001b[0;34m=\u001b[0m\u001b[0msample_weight\u001b[0m\u001b[0;34m\u001b[0m\u001b[0;34m\u001b[0m\u001b[0m\n\u001b[1;32m    269\u001b[0m         )\n",
            "\u001b[0;32m/usr/local/lib/python3.10/dist-packages/sklearn/naive_bayes.py\u001b[0m in \u001b[0;36m_partial_fit\u001b[0;34m(self, X, y, classes, _refit, sample_weight)\u001b[0m\n\u001b[1;32m    426\u001b[0m \u001b[0;34m\u001b[0m\u001b[0m\n\u001b[1;32m    427\u001b[0m         \u001b[0mfirst_call\u001b[0m \u001b[0;34m=\u001b[0m \u001b[0m_check_partial_fit_first_call\u001b[0m\u001b[0;34m(\u001b[0m\u001b[0mself\u001b[0m\u001b[0;34m,\u001b[0m \u001b[0mclasses\u001b[0m\u001b[0;34m)\u001b[0m\u001b[0;34m\u001b[0m\u001b[0;34m\u001b[0m\u001b[0m\n\u001b[0;32m--> 428\u001b[0;31m         \u001b[0mX\u001b[0m\u001b[0;34m,\u001b[0m \u001b[0my\u001b[0m \u001b[0;34m=\u001b[0m \u001b[0mself\u001b[0m\u001b[0;34m.\u001b[0m\u001b[0m_validate_data\u001b[0m\u001b[0;34m(\u001b[0m\u001b[0mX\u001b[0m\u001b[0;34m,\u001b[0m \u001b[0my\u001b[0m\u001b[0;34m,\u001b[0m \u001b[0mreset\u001b[0m\u001b[0;34m=\u001b[0m\u001b[0mfirst_call\u001b[0m\u001b[0;34m)\u001b[0m\u001b[0;34m\u001b[0m\u001b[0;34m\u001b[0m\u001b[0m\n\u001b[0m\u001b[1;32m    429\u001b[0m         \u001b[0;32mif\u001b[0m \u001b[0msample_weight\u001b[0m \u001b[0;32mis\u001b[0m \u001b[0;32mnot\u001b[0m \u001b[0;32mNone\u001b[0m\u001b[0;34m:\u001b[0m\u001b[0;34m\u001b[0m\u001b[0;34m\u001b[0m\u001b[0m\n\u001b[1;32m    430\u001b[0m             \u001b[0msample_weight\u001b[0m \u001b[0;34m=\u001b[0m \u001b[0m_check_sample_weight\u001b[0m\u001b[0;34m(\u001b[0m\u001b[0msample_weight\u001b[0m\u001b[0;34m,\u001b[0m \u001b[0mX\u001b[0m\u001b[0;34m)\u001b[0m\u001b[0;34m\u001b[0m\u001b[0;34m\u001b[0m\u001b[0m\n",
            "\u001b[0;32m/usr/local/lib/python3.10/dist-packages/sklearn/base.py\u001b[0m in \u001b[0;36m_validate_data\u001b[0;34m(self, X, y, reset, validate_separately, **check_params)\u001b[0m\n\u001b[1;32m    582\u001b[0m                 \u001b[0my\u001b[0m \u001b[0;34m=\u001b[0m \u001b[0mcheck_array\u001b[0m\u001b[0;34m(\u001b[0m\u001b[0my\u001b[0m\u001b[0;34m,\u001b[0m \u001b[0minput_name\u001b[0m\u001b[0;34m=\u001b[0m\u001b[0;34m\"y\"\u001b[0m\u001b[0;34m,\u001b[0m \u001b[0;34m**\u001b[0m\u001b[0mcheck_y_params\u001b[0m\u001b[0;34m)\u001b[0m\u001b[0;34m\u001b[0m\u001b[0;34m\u001b[0m\u001b[0m\n\u001b[1;32m    583\u001b[0m             \u001b[0;32melse\u001b[0m\u001b[0;34m:\u001b[0m\u001b[0;34m\u001b[0m\u001b[0;34m\u001b[0m\u001b[0m\n\u001b[0;32m--> 584\u001b[0;31m                 \u001b[0mX\u001b[0m\u001b[0;34m,\u001b[0m \u001b[0my\u001b[0m \u001b[0;34m=\u001b[0m \u001b[0mcheck_X_y\u001b[0m\u001b[0;34m(\u001b[0m\u001b[0mX\u001b[0m\u001b[0;34m,\u001b[0m \u001b[0my\u001b[0m\u001b[0;34m,\u001b[0m \u001b[0;34m**\u001b[0m\u001b[0mcheck_params\u001b[0m\u001b[0;34m)\u001b[0m\u001b[0;34m\u001b[0m\u001b[0;34m\u001b[0m\u001b[0m\n\u001b[0m\u001b[1;32m    585\u001b[0m             \u001b[0mout\u001b[0m \u001b[0;34m=\u001b[0m \u001b[0mX\u001b[0m\u001b[0;34m,\u001b[0m \u001b[0my\u001b[0m\u001b[0;34m\u001b[0m\u001b[0;34m\u001b[0m\u001b[0m\n\u001b[1;32m    586\u001b[0m \u001b[0;34m\u001b[0m\u001b[0m\n",
            "\u001b[0;32m/usr/local/lib/python3.10/dist-packages/sklearn/utils/validation.py\u001b[0m in \u001b[0;36mcheck_X_y\u001b[0;34m(X, y, accept_sparse, accept_large_sparse, dtype, order, copy, force_all_finite, ensure_2d, allow_nd, multi_output, ensure_min_samples, ensure_min_features, y_numeric, estimator)\u001b[0m\n\u001b[1;32m   1104\u001b[0m         )\n\u001b[1;32m   1105\u001b[0m \u001b[0;34m\u001b[0m\u001b[0m\n\u001b[0;32m-> 1106\u001b[0;31m     X = check_array(\n\u001b[0m\u001b[1;32m   1107\u001b[0m         \u001b[0mX\u001b[0m\u001b[0;34m,\u001b[0m\u001b[0;34m\u001b[0m\u001b[0;34m\u001b[0m\u001b[0m\n\u001b[1;32m   1108\u001b[0m         \u001b[0maccept_sparse\u001b[0m\u001b[0;34m=\u001b[0m\u001b[0maccept_sparse\u001b[0m\u001b[0;34m,\u001b[0m\u001b[0;34m\u001b[0m\u001b[0;34m\u001b[0m\u001b[0m\n",
            "\u001b[0;32m/usr/local/lib/python3.10/dist-packages/sklearn/utils/validation.py\u001b[0m in \u001b[0;36mcheck_array\u001b[0;34m(array, accept_sparse, accept_large_sparse, dtype, order, copy, force_all_finite, ensure_2d, allow_nd, ensure_min_samples, ensure_min_features, estimator, input_name)\u001b[0m\n\u001b[1;32m    908\u001b[0m \u001b[0;34m\u001b[0m\u001b[0m\n\u001b[1;32m    909\u001b[0m         \u001b[0;32mif\u001b[0m \u001b[0mdtype_numeric\u001b[0m \u001b[0;32mand\u001b[0m \u001b[0marray\u001b[0m\u001b[0;34m.\u001b[0m\u001b[0mdtype\u001b[0m\u001b[0;34m.\u001b[0m\u001b[0mkind\u001b[0m \u001b[0;32min\u001b[0m \u001b[0;34m\"USV\"\u001b[0m\u001b[0;34m:\u001b[0m\u001b[0;34m\u001b[0m\u001b[0;34m\u001b[0m\u001b[0m\n\u001b[0;32m--> 910\u001b[0;31m             raise ValueError(\n\u001b[0m\u001b[1;32m    911\u001b[0m                 \u001b[0;34m\"dtype='numeric' is not compatible with arrays of bytes/strings.\"\u001b[0m\u001b[0;34m\u001b[0m\u001b[0;34m\u001b[0m\u001b[0m\n\u001b[1;32m    912\u001b[0m                 \u001b[0;34m\"Convert your data to numeric values explicitly instead.\"\u001b[0m\u001b[0;34m\u001b[0m\u001b[0;34m\u001b[0m\u001b[0m\n",
            "\u001b[0;31mValueError\u001b[0m: dtype='numeric' is not compatible with arrays of bytes/strings.Convert your data to numeric values explicitly instead."
          ]
        }
      ]
    },
    {
      "cell_type": "code",
      "source": [
        "#A5 1st dataset\n",
        "import pandas as pd\n",
        "\n",
        "# Load the dataset\n",
        "dataset = pd.read_excel('/content/DS to B.tech.xlsx')\n",
        "\n",
        "# Separate the features and labels\n",
        "X = dataset[['Id']]\n",
        "y = dataset['Label']\n",
        "\n",
        "# Split the data into training and testing sets\n",
        "X_train, X_test, y_train, y_test = train_test_split(X, y, test_size=0.2, random_state=42)\n",
        "\n",
        "# Create a Gaussian Naive Bayes classifier\n",
        "model = GaussianNB()\n",
        "\n",
        "# Train the classifier\n",
        "model.fit(X_train, y_train)\n",
        "\n",
        "# Make predictions on the test set\n",
        "y_pred = model.predict(X_test)\n",
        "\n",
        "# Evaluate the classifier\n",
        "accuracy = accuracy_score(y_test, y_pred)\n",
        "\n",
        "# Print the accuracy\n",
        "print(accuracy)\n"
      ],
      "metadata": {
        "id": "Mm5OiCi30dPd",
        "outputId": "0ec4a968-2604-4e73-8bc7-5704bca8228d",
        "colab": {
          "base_uri": "https://localhost:8080/"
        }
      },
      "execution_count": 15,
      "outputs": [
        {
          "output_type": "stream",
          "name": "stdout",
          "text": [
            "0.37777777777777777\n"
          ]
        }
      ]
    },
    {
      "cell_type": "code",
      "source": [
        "#A5 2nd dataset\n",
        "import pandas as pd\n",
        "\n",
        "# Load the dataset\n",
        "dataset = pd.read_excel('/content/ED.xlsx')\n",
        "\n",
        "# Separate the features and labels\n",
        "X = dataset[['embed_0']]\n",
        "y = dataset['embed_3']\n",
        "\n",
        "# Split the data into training and testing sets\n",
        "X_train, X_test, y_train, y_test = train_test_split(X, y, test_size=0.2, random_state=42)\n",
        "\n",
        "# Create a Gaussian Naive Bayes classifier\n",
        "model = GaussianNB()\n",
        "\n",
        "# Train the classifier\n",
        "model.fit(X_train, y_train)\n",
        "\n",
        "# Make predictions on the test set\n",
        "y_pred = model.predict(X_test)\n",
        "\n",
        "# Evaluate the classifier\n",
        "accuracy = accuracy_score(y_test, y_pred)\n",
        "\n",
        "# Print the accuracy\n",
        "print(accuracy)\n"
      ],
      "metadata": {
        "id": "IF69wOO64dLE",
        "outputId": "4c6c1b3b-17e6-4920-c86a-264f1220f556",
        "colab": {
          "base_uri": "https://localhost:8080/",
          "height": 1000
        }
      },
      "execution_count": 21,
      "outputs": [
        {
          "output_type": "error",
          "ename": "ValueError",
          "evalue": "ignored",
          "traceback": [
            "\u001b[0;31m---------------------------------------------------------------------------\u001b[0m",
            "\u001b[0;31mValueError\u001b[0m                                Traceback (most recent call last)",
            "\u001b[0;32m<ipython-input-21-435e3abce9b2>\u001b[0m in \u001b[0;36m<cell line: 18>\u001b[0;34m()\u001b[0m\n\u001b[1;32m     16\u001b[0m \u001b[0;34m\u001b[0m\u001b[0m\n\u001b[1;32m     17\u001b[0m \u001b[0;31m# Train the classifier\u001b[0m\u001b[0;34m\u001b[0m\u001b[0;34m\u001b[0m\u001b[0m\n\u001b[0;32m---> 18\u001b[0;31m \u001b[0mmodel\u001b[0m\u001b[0;34m.\u001b[0m\u001b[0mfit\u001b[0m\u001b[0;34m(\u001b[0m\u001b[0mX_train\u001b[0m\u001b[0;34m,\u001b[0m \u001b[0my_train\u001b[0m\u001b[0;34m)\u001b[0m\u001b[0;34m\u001b[0m\u001b[0;34m\u001b[0m\u001b[0m\n\u001b[0m\u001b[1;32m     19\u001b[0m \u001b[0;34m\u001b[0m\u001b[0m\n\u001b[1;32m     20\u001b[0m \u001b[0;31m# Make predictions on the test set\u001b[0m\u001b[0;34m\u001b[0m\u001b[0;34m\u001b[0m\u001b[0m\n",
            "\u001b[0;32m/usr/local/lib/python3.10/dist-packages/sklearn/naive_bayes.py\u001b[0m in \u001b[0;36mfit\u001b[0;34m(self, X, y, sample_weight)\u001b[0m\n\u001b[1;32m    265\u001b[0m         \u001b[0mself\u001b[0m\u001b[0;34m.\u001b[0m\u001b[0m_validate_params\u001b[0m\u001b[0;34m(\u001b[0m\u001b[0;34m)\u001b[0m\u001b[0;34m\u001b[0m\u001b[0;34m\u001b[0m\u001b[0m\n\u001b[1;32m    266\u001b[0m         \u001b[0my\u001b[0m \u001b[0;34m=\u001b[0m \u001b[0mself\u001b[0m\u001b[0;34m.\u001b[0m\u001b[0m_validate_data\u001b[0m\u001b[0;34m(\u001b[0m\u001b[0my\u001b[0m\u001b[0;34m=\u001b[0m\u001b[0my\u001b[0m\u001b[0;34m)\u001b[0m\u001b[0;34m\u001b[0m\u001b[0;34m\u001b[0m\u001b[0m\n\u001b[0;32m--> 267\u001b[0;31m         return self._partial_fit(\n\u001b[0m\u001b[1;32m    268\u001b[0m             \u001b[0mX\u001b[0m\u001b[0;34m,\u001b[0m \u001b[0my\u001b[0m\u001b[0;34m,\u001b[0m \u001b[0mnp\u001b[0m\u001b[0;34m.\u001b[0m\u001b[0munique\u001b[0m\u001b[0;34m(\u001b[0m\u001b[0my\u001b[0m\u001b[0;34m)\u001b[0m\u001b[0;34m,\u001b[0m \u001b[0m_refit\u001b[0m\u001b[0;34m=\u001b[0m\u001b[0;32mTrue\u001b[0m\u001b[0;34m,\u001b[0m \u001b[0msample_weight\u001b[0m\u001b[0;34m=\u001b[0m\u001b[0msample_weight\u001b[0m\u001b[0;34m\u001b[0m\u001b[0;34m\u001b[0m\u001b[0m\n\u001b[1;32m    269\u001b[0m         )\n",
            "\u001b[0;32m/usr/local/lib/python3.10/dist-packages/sklearn/naive_bayes.py\u001b[0m in \u001b[0;36m_partial_fit\u001b[0;34m(self, X, y, classes, _refit, sample_weight)\u001b[0m\n\u001b[1;32m    425\u001b[0m             \u001b[0mself\u001b[0m\u001b[0;34m.\u001b[0m\u001b[0mclasses_\u001b[0m \u001b[0;34m=\u001b[0m \u001b[0;32mNone\u001b[0m\u001b[0;34m\u001b[0m\u001b[0;34m\u001b[0m\u001b[0m\n\u001b[1;32m    426\u001b[0m \u001b[0;34m\u001b[0m\u001b[0m\n\u001b[0;32m--> 427\u001b[0;31m         \u001b[0mfirst_call\u001b[0m \u001b[0;34m=\u001b[0m \u001b[0m_check_partial_fit_first_call\u001b[0m\u001b[0;34m(\u001b[0m\u001b[0mself\u001b[0m\u001b[0;34m,\u001b[0m \u001b[0mclasses\u001b[0m\u001b[0;34m)\u001b[0m\u001b[0;34m\u001b[0m\u001b[0;34m\u001b[0m\u001b[0m\n\u001b[0m\u001b[1;32m    428\u001b[0m         \u001b[0mX\u001b[0m\u001b[0;34m,\u001b[0m \u001b[0my\u001b[0m \u001b[0;34m=\u001b[0m \u001b[0mself\u001b[0m\u001b[0;34m.\u001b[0m\u001b[0m_validate_data\u001b[0m\u001b[0;34m(\u001b[0m\u001b[0mX\u001b[0m\u001b[0;34m,\u001b[0m \u001b[0my\u001b[0m\u001b[0;34m,\u001b[0m \u001b[0mreset\u001b[0m\u001b[0;34m=\u001b[0m\u001b[0mfirst_call\u001b[0m\u001b[0;34m)\u001b[0m\u001b[0;34m\u001b[0m\u001b[0;34m\u001b[0m\u001b[0m\n\u001b[1;32m    429\u001b[0m         \u001b[0;32mif\u001b[0m \u001b[0msample_weight\u001b[0m \u001b[0;32mis\u001b[0m \u001b[0;32mnot\u001b[0m \u001b[0;32mNone\u001b[0m\u001b[0;34m:\u001b[0m\u001b[0;34m\u001b[0m\u001b[0;34m\u001b[0m\u001b[0m\n",
            "\u001b[0;32m/usr/local/lib/python3.10/dist-packages/sklearn/utils/multiclass.py\u001b[0m in \u001b[0;36m_check_partial_fit_first_call\u001b[0;34m(clf, classes)\u001b[0m\n\u001b[1;32m    418\u001b[0m         \u001b[0;32melse\u001b[0m\u001b[0;34m:\u001b[0m\u001b[0;34m\u001b[0m\u001b[0;34m\u001b[0m\u001b[0m\n\u001b[1;32m    419\u001b[0m             \u001b[0;31m# This is the first call to partial_fit\u001b[0m\u001b[0;34m\u001b[0m\u001b[0;34m\u001b[0m\u001b[0m\n\u001b[0;32m--> 420\u001b[0;31m             \u001b[0mclf\u001b[0m\u001b[0;34m.\u001b[0m\u001b[0mclasses_\u001b[0m \u001b[0;34m=\u001b[0m \u001b[0munique_labels\u001b[0m\u001b[0;34m(\u001b[0m\u001b[0mclasses\u001b[0m\u001b[0;34m)\u001b[0m\u001b[0;34m\u001b[0m\u001b[0;34m\u001b[0m\u001b[0m\n\u001b[0m\u001b[1;32m    421\u001b[0m             \u001b[0;32mreturn\u001b[0m \u001b[0;32mTrue\u001b[0m\u001b[0;34m\u001b[0m\u001b[0;34m\u001b[0m\u001b[0m\n\u001b[1;32m    422\u001b[0m \u001b[0;34m\u001b[0m\u001b[0m\n",
            "\u001b[0;32m/usr/local/lib/python3.10/dist-packages/sklearn/utils/multiclass.py\u001b[0m in \u001b[0;36munique_labels\u001b[0;34m(*ys)\u001b[0m\n\u001b[1;32m    105\u001b[0m     \u001b[0m_unique_labels\u001b[0m \u001b[0;34m=\u001b[0m \u001b[0m_FN_UNIQUE_LABELS\u001b[0m\u001b[0;34m.\u001b[0m\u001b[0mget\u001b[0m\u001b[0;34m(\u001b[0m\u001b[0mlabel_type\u001b[0m\u001b[0;34m,\u001b[0m \u001b[0;32mNone\u001b[0m\u001b[0;34m)\u001b[0m\u001b[0;34m\u001b[0m\u001b[0;34m\u001b[0m\u001b[0m\n\u001b[1;32m    106\u001b[0m     \u001b[0;32mif\u001b[0m \u001b[0;32mnot\u001b[0m \u001b[0m_unique_labels\u001b[0m\u001b[0;34m:\u001b[0m\u001b[0;34m\u001b[0m\u001b[0;34m\u001b[0m\u001b[0m\n\u001b[0;32m--> 107\u001b[0;31m         \u001b[0;32mraise\u001b[0m \u001b[0mValueError\u001b[0m\u001b[0;34m(\u001b[0m\u001b[0;34m\"Unknown label type: %s\"\u001b[0m \u001b[0;34m%\u001b[0m \u001b[0mrepr\u001b[0m\u001b[0;34m(\u001b[0m\u001b[0mys\u001b[0m\u001b[0;34m)\u001b[0m\u001b[0;34m)\u001b[0m\u001b[0;34m\u001b[0m\u001b[0;34m\u001b[0m\u001b[0m\n\u001b[0m\u001b[1;32m    108\u001b[0m \u001b[0;34m\u001b[0m\u001b[0m\n\u001b[1;32m    109\u001b[0m     \u001b[0;32mif\u001b[0m \u001b[0mis_array_api\u001b[0m\u001b[0;34m:\u001b[0m\u001b[0;34m\u001b[0m\u001b[0;34m\u001b[0m\u001b[0m\n",
            "\u001b[0;31mValueError\u001b[0m: Unknown label type: (array([0.00705863, 0.01103384, 0.01147996, 0.01331045, 0.01343586,\n       0.01359076, 0.01385453, 0.0145271 , 0.01550894, 0.01590746,\n       0.01669537, 0.01700171, 0.01755221, 0.0175531 , 0.01763747,\n       0.0179114 , 0.01866207, 0.01918079, 0.01938764, 0.01962488,\n       0.02026801, 0.02027143, 0.02045888, 0.02111068, 0.02133523,\n       0.0213645 , 0.0215091 , 0.02160634, 0.02191073, 0.02202372,\n       0.02219679, 0.02239121, 0.02240474, 0.02244927, 0.02263821,\n       0.02293964, 0.02316764, 0.02363095, 0.02378772, 0.02381144,\n       0.02460879, 0.02461752, 0.02469582, 0.02487594, 0.02490801,\n       0.02500483, 0.02506396, 0.02545993, 0.02546832, 0.02548285,\n       0.02578361, 0.02593663, 0.02595388, 0.0260657 , 0.02610495,\n       0.02611562, 0.02626421, 0.02626803, 0.02643179, 0.02646688,\n       0.02651127, 0.02669307, 0.0270731 , 0.02714135, 0.02724881,\n       0.02732067, 0.02732986, 0.02745758, 0.02762216, 0.02769169,\n       0.02775514, 0.02789092, 0.02790419, 0.02810021, 0.02811063,\n       0.02826039, 0.02829115, 0.02834815, 0.02847151, 0.02869117,\n       0.02872626, 0.02875254, 0.02876083, 0.02876703, 0.02907588,\n       0.02928143, 0.0293056 , 0.02968082, 0.02976693, 0.02979134,\n       0.02981752, 0.02999084, 0.03003947, 0.03004594, 0.03010799,\n       0.03025831, 0.03035054, 0.03039403, 0.0304147 , 0.03055363,\n       0.03062982, 0.03090247, 0.03093253, 0.03095277, 0.03096009,\n       0.03101759, 0.03104721, 0.03109537, 0.03115608, 0.03118938,\n       0.03122389, 0.03124818, 0.03131654, 0.03134727, 0.03142182,\n       0.03144339, 0.03153761, 0.03156891, 0.03162031, 0.03171136,\n       0.03199738, 0.03211214, 0.0323478 , 0.03239352, 0.03248334,\n       0.03253217, 0.03265478, 0.0327108 , 0.03286466, 0.03296204,\n       0.03318273, 0.03319928, 0.03334178, 0.03342255, 0.03350835,\n       0.03366938, 0.03378705, 0.03382868, 0.03408904, 0.0341812 ,\n       0.03418795, 0.03419048, 0.03450661, 0.03455488, 0.03458347,\n       0.03475622, 0.03477119, 0.03480627, 0.03482501, 0.03485975,\n       0.03486888, 0.03496351, 0.03497491, 0.03501204, 0.03501808,\n       0.0350224 , 0.0351676 , 0.03521924, 0.0352254 , 0.03525043,\n       0.03538922, 0.03540777, 0.03552453, 0.03553797, 0.0355639 ,\n       0.03558387, 0.03558638, 0.03562439, 0.03562977, 0.03567349,\n       0.03567458, 0.03571469, 0.03574965, 0.03595213, 0.03597312,\n       0.03610037, 0.03621473, 0.03621967, 0.03623624, 0.03629791,\n       0.03631284, 0.03641164, 0.03648831, 0.03650751, 0.03651635,\n       0.03654347, 0.03655846, 0.03658336, 0.03661672, 0.03666476,\n       0.0366883 , 0.03669963, 0.03671674, 0.03676927, 0.0367723 ,\n       0.03678985, 0.03686246, 0.03691549, 0.0371219 , 0.03712939,\n       0.03712977, 0.0371872 , 0.03727445, 0.03730391, 0.0373325 ,\n       0.03737193, 0.03745616, 0.03750661, 0.03751377, 0.03752413,\n       0.03756035, 0.03762427, 0.03767151, 0.03773274, 0.03778266,\n       0.03779141, 0.03791492, 0.03792046, 0.03800698, 0.03800751,\n       0.03801759, 0.03804741, 0.0380991 , 0.03812108, 0.0381345 ,\n       0.03815916, 0.03818147, 0.03823708, 0.03823951, 0.03825913,\n       0.03830789, 0.03847262, 0.03847306, 0.03847454, 0.03848131,\n       0.03853714, 0.03856572, 0.03858434, 0.0386322 , 0.03886166,\n       0.03887103, 0.0389214 , 0.03893881, 0.038948  , 0.03902451,\n       0.03903659, 0.03907843, 0.03908195, 0.03922953, 0.03923247,\n       0.039389  , 0.0394431 , 0.03946526, 0.03951168, 0.03952982,\n       0.03961428, 0.03970262, 0.03970907, 0.03984445, 0.03987171,\n       0.03988825, 0.03989619, 0.03997657, 0.03998777, 0.04004349,\n       0.04007597, 0.04008033, 0.04015425, 0.04016268, 0.04019121,\n       0.04023912, 0.04024905, 0.04026921, 0.04032268, 0.04036408,\n       0.04040452, 0.04042449, 0.04043996, 0.04047017, 0.04051781,\n       0.04056069, 0.0405662 , 0.04061014, 0.04061848, 0.04065077,\n       0.04068584, 0.04078329, 0.04080563, 0.04083452, 0.04087062,\n       0.04099522, 0.04106089, 0.04106757, 0.04107778, 0.04134927,\n       0.04137356, 0.04139863, 0.04144518, 0.04146159, 0.04148013,\n       0.04152166, 0.04154162, 0.04166805, 0.04168414, 0.04172693,\n       0.04176789, 0.04181905, 0.04183498, 0.04184718, 0.04186506,\n       0.04186808, 0.04197476, 0.04198009, 0.04198606, 0.04199667,\n       0.04204655, 0.04207112, 0.04209748, 0.04210905, 0.04212908,\n       0.04213282, 0.04215854, 0.04237498, 0.04254443, 0.04257966,\n       0.042643  , 0.04265087, 0.04277228, 0.04281607, 0.04287228,\n       0.04307312, 0.04322006, 0.04327171, 0.04334897, 0.04339458,\n       0.04348024, 0.04348211, 0.04349647, 0.04350632, 0.04351764,\n       0.04356267, 0.04359004, 0.04361874, 0.04364761, 0.04366009,\n       0.04368838, 0.04373128, 0.04375134, 0.04383614, 0.0438756 ,\n       0.04391171, 0.04394621, 0.04399429, 0.04401018, 0.0440537 ,\n       0.04411498, 0.04415283, 0.0441857 , 0.04430971, 0.04438923,\n       0.04439107, 0.04439331, 0.04439656, 0.04446542, 0.04448449,\n       0.044512  , 0.04453001, 0.04456132, 0.04464178, 0.04473411,\n       0.04480769, 0.04484856, 0.04487501, 0.04496832, 0.04502679,\n       0.04519388, 0.04529868, 0.04533213, 0.0453909 , 0.04539136,\n       0.04547139, 0.04553393, 0.04553814, 0.04554252, 0.04560566,\n       0.04560945, 0.04562695, 0.04572063, 0.04573511, 0.04574004,\n       0.04574833, 0.04579351, 0.04580064, 0.04586035, 0.04587584,\n       0.04590151, 0.04593448, 0.0460085 , 0.04601232, 0.04609663,\n       0.04611941, 0.04622059, 0.04624313, 0.04628241, 0.0463086 ,\n       0.04632016, 0.04642355, 0.04642435, 0.04645291, 0.0465056 ,\n       0.04651282, 0.04661881, 0.04666038, 0.04676883, 0.04678125,\n       0.04678901, 0.04681181, 0.04681891, 0.04681952, 0.04690254,\n       0.04696403, 0.04696516, 0.04699457, 0.04708144, 0.04713089,\n       0.04714228, 0.04714405, 0.04720379, 0.04723959, 0.04726322,\n       0.04735153, 0.04735197, 0.04752147, 0.04753387, 0.04753774,\n       0.04760096, 0.04761622, 0.04763237, 0.04778794, 0.0479107 ,\n       0.04795247, 0.048053  , 0.04808465, 0.04810615, 0.04810639,\n       0.04810827, 0.04820348, 0.0482035 , 0.04823844, 0.04826786,\n       0.04829683, 0.04844492, 0.04859016, 0.04864986, 0.04865824,\n       0.04875096, 0.04879026, 0.04881731, 0.04888248, 0.04891399,\n       0.04893139, 0.04893478, 0.04900872, 0.04901818, 0.049024  ,\n       0.04902492, 0.04904684, 0.04917371, 0.04918581, 0.04918951,\n       0.04919052, 0.04919839, 0.04920457, 0.04927033, 0.04930353,\n       0.04934497, 0.04937503, 0.0494532 , 0.04945928, 0.04947804,\n       0.04963059, 0.04966684, 0.04969371, 0.04976979, 0.04980535,\n       0.04987851, 0.04988411, 0.04990064, 0.04998284, 0.05010843,\n       0.05014039, 0.05014508, 0.05014527, 0.05017945, 0.05020377,\n       0.05020716, 0.0502859 , 0.05038266, 0.05040042, 0.05048678,\n       0.05048751, 0.05049866, 0.05057148, 0.05062767, 0.05068309,\n       0.05071776, 0.05071886, 0.05075228, 0.05076351, 0.0507957 ,\n       0.05084564, 0.05095527, 0.05098557, 0.05099781, 0.05101014,\n       0.05112813, 0.05114252, 0.05117089, 0.05135978, 0.05136865,\n       0.05147873, 0.05148635, 0.05148775, 0.05155628, 0.05156754,\n       0.05159737, 0.05166015, 0.05171329, 0.05182209, 0.05182391,\n       0.05211202, 0.05218441, 0.05227298, 0.05228022, 0.05236306,\n       0.05249218, 0.05268307, 0.0526831 , 0.05280543, 0.05283044,\n       0.05286637, 0.05311694, 0.05316123, 0.05343015, 0.05363471,\n       0.05364832, 0.05365543, 0.05366089, 0.05381039, 0.0538246 ,\n       0.05389975, 0.05400371, 0.05402004, 0.05409039, 0.054104  ,\n       0.05416614, 0.05418915, 0.05428653, 0.05431118, 0.05434734,\n       0.05440017, 0.05450948, 0.05454424, 0.05454601, 0.05468445,\n       0.05480412, 0.05487182, 0.05490394, 0.055033  , 0.05508888,\n       0.05523217, 0.0552549 , 0.05526935, 0.05531628, 0.05534953,\n       0.05545171, 0.05545782, 0.05577695, 0.05577749, 0.05577851,\n       0.05583251, 0.05586664, 0.05589557, 0.05596416, 0.05608251,\n       0.05621156, 0.05622479, 0.05628367, 0.05628774, 0.05628929,\n       0.05636251, 0.05649514, 0.05658739, 0.05664638, 0.05670579,\n       0.05671306, 0.05671431, 0.05673061, 0.05696325, 0.05696414,\n       0.05697218, 0.05709644, 0.05709971, 0.05713585, 0.05714051,\n       0.05715164, 0.05733161, 0.05742247, 0.05747769, 0.05783983,\n       0.0578909 , 0.05794704, 0.05798644, 0.05808511, 0.05814995,\n       0.05820724, 0.0582963 , 0.05842313, 0.05842494, 0.05843742,\n       0.0585169 , 0.05858719, 0.05863521, 0.05867013, 0.05870012,\n       0.05896879, 0.05897068, 0.05902239, 0.05913844, 0.05919608,\n       0.05924559, 0.05962959, 0.05965947, 0.05988031, 0.05993918,\n       0.06006261, 0.06006409, 0.06016363, 0.06020657, 0.06028346,\n       0.06037381, 0.06037397, 0.06043208, 0.06070967, 0.0607537 ,\n       0.06077103, 0.06117548, 0.06118216, 0.06123492, 0.06125752,\n       0.06136227, 0.06146357, 0.06153528, 0.06204637, 0.06207338,\n       0.06219508, 0.06234594, 0.06255014, 0.0626558 , 0.06284645,\n       0.06288601, 0.06316054, 0.06326539, 0.06329916, 0.06344234,\n       0.06350753, 0.06351701, 0.0636877 , 0.06371889, 0.06382957,\n       0.06440943, 0.06448659, 0.0647032 , 0.06478309, 0.064859  ,\n       0.06492303, 0.06507897, 0.06512665, 0.06526683, 0.06530018,\n       0.06541375, 0.0654835 , 0.0655165 , 0.06557682, 0.06572253,\n       0.06582209, 0.06602979, 0.06604707, 0.06613033, 0.06626529,\n       0.06633987, 0.06635591, 0.06692342, 0.06701838, 0.0671327 ,\n       0.06781615, 0.06796556, 0.06892812, 0.06947518, 0.07003996,\n       0.07012744, 0.07038683, 0.07051124, 0.07195742, 0.07223876,\n       0.07252786, 0.07286437, 0.07414465, 0.07470199, 0.07512385,\n       0.07591706, 0.07762282, 0.08328159]),)"
          ]
        }
      ]
    }
  ]
}